{
 "cells": [
  {
   "cell_type": "markdown",
   "id": "55425ba6",
   "metadata": {
    "id": "55425ba6"
   },
   "source": [
    "# Sign Language : Multi-class Classification\n"
   ]
  },
  {
   "cell_type": "code",
   "execution_count": 4,
   "id": "689f1257",
   "metadata": {
    "id": "689f1257",
    "tags": [
     "graded"
    ]
   },
   "outputs": [
    {
     "name": "stdout",
     "output_type": "stream",
     "text": [
      "WARNING:tensorflow:From D:\\JetBrains\\PyCharm Community Edition 2022.1\\Enviroments\\MachineLearning\\lib\\site-packages\\keras\\src\\losses.py:2976: The name tf.losses.sparse_softmax_cross_entropy is deprecated. Please use tf.compat.v1.losses.sparse_softmax_cross_entropy instead.\n",
      "\n"
     ]
    }
   ],
   "source": [
    "import csv\n",
    "import string\n",
    "import numpy as np\n",
    "import tensorflow as tf\n",
    "import matplotlib.pyplot as plt\n",
    "from tensorflow.keras.preprocessing.image import ImageDataGenerator, array_to_img"
   ]
  },
  {
   "cell_type": "markdown",
   "id": "8e2ff6d2",
   "metadata": {
    "id": "8e2ff6d2"
   },
   "source": [
    "Download the training and test sets (the test set will actually be used as a validation set):"
   ]
  },
  {
   "cell_type": "code",
   "execution_count": 1,
   "id": "299f1a94",
   "metadata": {
    "colab": {
     "base_uri": "https://localhost:8080/"
    },
    "id": "299f1a94",
    "outputId": "e682fc02-ad37-4431-9a36-9db165f8e010"
   },
   "outputs": [
    {
     "name": "stdout",
     "output_type": "stream",
     "text": [
      "Collecting gdown==4.6.0\n",
      "  Downloading gdown-4.6.0-py3-none-any.whl (14 kB)\n",
      "Requirement already satisfied: filelock in d:\\jetbrains\\pycharm community edition 2022.1\\enviroments\\machinelearning\\lib\\site-packages (from gdown==4.6.0) (3.13.1)\n",
      "Requirement already satisfied: requests[socks] in d:\\jetbrains\\pycharm community edition 2022.1\\enviroments\\machinelearning\\lib\\site-packages (from gdown==4.6.0) (2.31.0)\n",
      "Requirement already satisfied: beautifulsoup4 in d:\\jetbrains\\pycharm community edition 2022.1\\enviroments\\machinelearning\\lib\\site-packages (from gdown==4.6.0) (4.12.2)\n",
      "Requirement already satisfied: tqdm in d:\\jetbrains\\pycharm community edition 2022.1\\enviroments\\machinelearning\\lib\\site-packages (from gdown==4.6.0) (4.66.1)\n",
      "Requirement already satisfied: six in d:\\jetbrains\\pycharm community edition 2022.1\\enviroments\\machinelearning\\lib\\site-packages (from gdown==4.6.0) (1.16.0)\n",
      "Requirement already satisfied: soupsieve>1.2 in d:\\jetbrains\\pycharm community edition 2022.1\\enviroments\\machinelearning\\lib\\site-packages (from beautifulsoup4->gdown==4.6.0) (2.5)\n",
      "Requirement already satisfied: certifi>=2017.4.17 in d:\\jetbrains\\pycharm community edition 2022.1\\enviroments\\machinelearning\\lib\\site-packages (from requests[socks]->gdown==4.6.0) (2023.11.17)\n",
      "Requirement already satisfied: charset-normalizer<4,>=2 in d:\\jetbrains\\pycharm community edition 2022.1\\enviroments\\machinelearning\\lib\\site-packages (from requests[socks]->gdown==4.6.0) (3.3.2)\n",
      "Requirement already satisfied: urllib3<3,>=1.21.1 in d:\\jetbrains\\pycharm community edition 2022.1\\enviroments\\machinelearning\\lib\\site-packages (from requests[socks]->gdown==4.6.0) (2.1.0)\n",
      "Requirement already satisfied: idna<4,>=2.5 in d:\\jetbrains\\pycharm community edition 2022.1\\enviroments\\machinelearning\\lib\\site-packages (from requests[socks]->gdown==4.6.0) (3.6)\n",
      "Collecting PySocks!=1.5.7,>=1.5.6\n",
      "  Using cached PySocks-1.7.1-py3-none-any.whl (16 kB)\n",
      "Requirement already satisfied: colorama in d:\\jetbrains\\pycharm community edition 2022.1\\enviroments\\machinelearning\\lib\\site-packages (from tqdm->gdown==4.6.0) (0.4.6)\n",
      "Installing collected packages: PySocks, gdown\n",
      "Successfully installed PySocks-1.7.1 gdown-4.6.0\n"
     ]
    },
    {
     "name": "stderr",
     "output_type": "stream",
     "text": [
      "WARNING: You are using pip version 21.3.1; however, version 23.3.2 is available.\n",
      "You should consider upgrading via the 'D:\\JetBrains\\PyCharm Community Edition 2022.1\\Enviroments\\MachineLearning\\Scripts\\python.exe -m pip install --upgrade pip' command.\n"
     ]
    }
   ],
   "source": [
    "!pip install gdown==4.6.0"
   ]
  },
  {
   "cell_type": "code",
   "execution_count": null,
   "id": "c2187066",
   "metadata": {
    "colab": {
     "base_uri": "https://localhost:8080/"
    },
    "id": "c2187066",
    "outputId": "14895401-52c2-4d3c-e651-121ca31369ad",
    "scrolled": true,
    "tags": []
   },
   "outputs": [],
   "source": [
    "# to download dataset\n",
    "# sign_mnist_train.csv\n",
    "!gdown --id 1z0DkA9BytlLxO1C0BAWzknLyQmZAp0HR\n",
    "# sign_mnist_test.csv\n",
    "!gdown --id 1z1BIj4qmri59GWBG4ivMNFtpZ4AXIbzg"
   ]
  },
  {
   "cell_type": "markdown",
   "id": "7cb15ecc",
   "metadata": {
    "id": "7cb15ecc"
   },
   "source": [
    "Define some globals with the path to both files you just downloaded:"
   ]
  },
  {
   "cell_type": "code",
   "execution_count": 5,
   "id": "3b992532",
   "metadata": {
    "id": "3b992532",
    "tags": [
     "graded"
    ]
   },
   "outputs": [],
   "source": [
    "TRAINING_FILE = 'Data/sign_mnist_train.csv'\n",
    "VALIDATION_FILE = 'Data/sign_mnist_test.csv'"
   ]
  },
  {
   "cell_type": "code",
   "execution_count": 8,
   "id": "3188a991",
   "metadata": {
    "colab": {
     "base_uri": "https://localhost:8080/"
    },
    "id": "3188a991",
    "outputId": "c66ea040-0946-4dcb-c911-b029f7959cf1",
    "tags": [
     "graded"
    ]
   },
   "outputs": [
    {
     "name": "stdout",
     "output_type": "stream",
     "text": [
      "First line (header) looks like this:\n",
      "label,pixel1,pixel2,pixel3,pixel4,pixel5,pixel6,pixel7,pixel8,pixel9,pixel10,pixel11,pixel12,pixel13\n",
      "Each subsequent line (data points) look like this:\n",
      "3,107,118,127,134,139,143,146,150,153,156,158,160,163,165,159,166,168,170,170,171,171,171,172,171,17\n"
     ]
    }
   ],
   "source": [
    "with open(TRAINING_FILE) as training_file:\n",
    "  line = training_file.readline()\n",
    "  print(f\"First line (header) looks like this:\\n{line[:100]}\")\n",
    "  line = training_file.readline()\n",
    "  print(f\"Each subsequent line (data points) look like this:\\n{line[:100]}\")"
   ]
  },
  {
   "cell_type": "markdown",
   "id": "77af7d9f",
   "metadata": {
    "id": "77af7d9f"
   },
   "source": [
    " ## Parsing the dataset\n"
   ]
  },
  {
   "cell_type": "code",
   "execution_count": 9,
   "id": "47096869",
   "metadata": {
    "cellView": "code",
    "id": "47096869",
    "lines_to_next_cell": 2,
    "tags": [
     "graded"
    ]
   },
   "outputs": [],
   "source": [
    "def parse_data_from_input(filename):\n",
    "  \"\"\"\n",
    "  Parses the images and labels from a CSV file\n",
    "\n",
    "  Args:\n",
    "    filename (string): path to the CSV file\n",
    "\n",
    "  Returns:\n",
    "    images, labels: tuple of numpy arrays containing the images and labels\n",
    "  \"\"\"\n",
    "  with open(filename) as file:\n",
    "    csv_reader = csv.reader(file, delimiter=',')\n",
    "\n",
    "    labels = []\n",
    "    images = []\n",
    "\n",
    "    next(csv_reader)\n",
    "\n",
    "    for row in csv_reader:\n",
    "      labels.append(row[0])\n",
    "      images.append(np.array(row[1:], dtype='float').reshape(28, 28))\n",
    "\n",
    "    labels = np.array(labels).astype('float')\n",
    "    images = np.array(images)\n",
    "\n",
    "    return images, labels"
   ]
  },
  {
   "cell_type": "code",
   "execution_count": 10,
   "id": "4ae53f24",
   "metadata": {
    "colab": {
     "base_uri": "https://localhost:8080/"
    },
    "id": "4ae53f24",
    "outputId": "0cc48bef-7420-44dd-9551-c690b623ac52",
    "tags": [
     "graded"
    ]
   },
   "outputs": [
    {
     "name": "stdout",
     "output_type": "stream",
     "text": [
      "Training images has shape: (27455, 28, 28) and dtype: float64\n",
      "Training labels has shape: (27455,) and dtype: float64\n",
      "Validation images has shape: (7172, 28, 28) and dtype: float64\n",
      "Validation labels has shape: (7172,) and dtype: float64\n"
     ]
    }
   ],
   "source": [
    "training_images, training_labels = parse_data_from_input(TRAINING_FILE)\n",
    "validation_images, validation_labels = parse_data_from_input(VALIDATION_FILE)\n",
    "\n",
    "print(f\"Training images has shape: {training_images.shape} and dtype: {training_images.dtype}\")\n",
    "print(f\"Training labels has shape: {training_labels.shape} and dtype: {training_labels.dtype}\")\n",
    "print(f\"Validation images has shape: {validation_images.shape} and dtype: {validation_images.dtype}\")\n",
    "print(f\"Validation labels has shape: {validation_labels.shape} and dtype: {validation_labels.dtype}\")"
   ]
  },
  {
   "cell_type": "markdown",
   "id": "a04e8e23",
   "metadata": {
    "id": "a04e8e23"
   },
   "source": [
    "## Visualizing the numpy arrays containing images"
   ]
  },
  {
   "cell_type": "code",
   "execution_count": 11,
   "id": "81605604",
   "metadata": {
    "colab": {
     "base_uri": "https://localhost:8080/",
     "height": 181
    },
    "id": "81605604",
    "outputId": "9ceacc4a-a78d-4ebc-997e-48d2feabf627",
    "tags": []
   },
   "outputs": [
    {
     "data": {
      "image/png": "[encoded data removed]",
      "text/plain": [
       "<Figure size 1600x1500 with 10 Axes>"
      ]
     },
     "metadata": {},
     "output_type": "display_data"
    }
   ],
   "source": [
    "def plot_categories(training_images, training_labels):\n",
    "  fig, axes = plt.subplots(1, 10, figsize=(16, 15))\n",
    "  axes = axes.flatten()\n",
    "  letters = list(string.ascii_lowercase)\n",
    "\n",
    "  for k in range(10):\n",
    "    img = training_images[k]\n",
    "    img = np.expand_dims(img, axis=-1)\n",
    "    img = array_to_img(img)\n",
    "    ax = axes[k]\n",
    "    ax.imshow(img, cmap=\"Greys_r\")\n",
    "    ax.set_title(f\"{letters[int(training_labels[k])]}\")\n",
    "    ax.set_axis_off()\n",
    "\n",
    "  plt.tight_layout()\n",
    "  plt.show()\n",
    "\n",
    "plot_categories(training_images, training_labels)"
   ]
  },
  {
   "cell_type": "markdown",
   "id": "a77c3fae",
   "metadata": {
    "id": "a77c3fae"
   },
   "source": [
    "## Creating the generators for the CNN"
   ]
  },
  {
   "cell_type": "code",
   "execution_count": 12,
   "id": "42157a8c",
   "metadata": {
    "cellView": "code",
    "id": "42157a8c",
    "lines_to_next_cell": 2,
    "tags": [
     "graded"
    ]
   },
   "outputs": [],
   "source": [
    "from keras.utils import to_categorical # for one-hot encoding\n",
    "\n",
    "def train_val_generators(training_images, training_labels, validation_images, validation_labels):\n",
    "    \n",
    "  training_images = np.expand_dims(training_images, axis=-1)# expanding dims for b&w color pixels\n",
    "  validation_images = np.expand_dims(validation_images, axis=-1)\n",
    "\n",
    "  train_datagen = ImageDataGenerator(rescale=1./255, #Image Data Generator with Augmentation\n",
    "                                     rotation_range=40,\n",
    "                                     shear_range=0.2,\n",
    "                                     zoom_range=0.2,\n",
    "                                     width_shift_range=0.2,\n",
    "                                     height_shift_range=0.2,\n",
    "                                     horizontal_flip=True,\n",
    "                                     fill_mode='nearest')\n",
    "\n",
    "\n",
    "  train_generator = train_datagen.flow(x=training_images,\n",
    "                                       y=to_categorical(training_labels, num_classes = 26),\n",
    "                                       batch_size=32)\n",
    "\n",
    "\n",
    "  validation_datagen = ImageDataGenerator(rescale=1./255)\n",
    "\n",
    "  validation_generator = validation_datagen.flow(x=validation_images,\n",
    "                                                 y=to_categorical(validation_labels, num_classes = 26),\n",
    "                                                 batch_size=32)\n",
    "\n",
    "  return train_generator, validation_generator"
   ]
  },
  {
   "cell_type": "code",
   "execution_count": 13,
   "id": "0225e001",
   "metadata": {
    "colab": {
     "base_uri": "https://localhost:8080/"
    },
    "id": "0225e001",
    "outputId": "661ac1e5-e47a-4dcb-f698-bd71ec02b230",
    "tags": [
     "graded"
    ]
   },
   "outputs": [
    {
     "name": "stdout",
     "output_type": "stream",
     "text": [
      "Images of training generator have shape: (27455, 28, 28, 1)\n",
      "Labels of training generator have shape: (27455, 26)\n",
      "Images of validation generator have shape: (7172, 28, 28, 1)\n",
      "Labels of validation generator have shape: (7172, 26)\n"
     ]
    }
   ],
   "source": [
    "train_generator, validation_generator = train_val_generators(training_images, training_labels, validation_images, validation_labels)\n",
    "\n",
    "print(f\"Images of training generator have shape: {train_generator.x.shape}\")\n",
    "print(f\"Labels of training generator have shape: {train_generator.y.shape}\")\n",
    "print(f\"Images of validation generator have shape: {validation_generator.x.shape}\")\n",
    "print(f\"Labels of validation generator have shape: {validation_generator.y.shape}\")"
   ]
  },
  {
   "cell_type": "markdown",
   "id": "79415fd9",
   "metadata": {
    "id": "79415fd9"
   },
   "source": [
    "## Coding the CNN\n",
    "\n",
    "The architecture of the model."
   ]
  },
  {
   "cell_type": "code",
   "execution_count": 14,
   "id": "f9598ae6",
   "metadata": {
    "cellView": "code",
    "id": "f9598ae6",
    "tags": [
     "graded"
    ]
   },
   "outputs": [],
   "source": [
    "from tensorflow.keras.optimizers import RMSprop\n",
    "\n",
    "def create_model():\n",
    "    \n",
    "  model = tf.keras.models.Sequential([\n",
    "      tf.keras.layers.Conv2D(32, (3, 3), activation='relu', input_shape=(28, 28, 1)),\n",
    "      tf.keras.layers.MaxPooling2D(2, 2),\n",
    "\n",
    "      tf.keras.layers.Conv2D(64, (3, 3), activation='relu'),\n",
    "      tf.keras.layers.MaxPooling2D(2, 2),\n",
    "\n",
    "      tf.keras.layers.Flatten(),\n",
    "      tf.keras.layers.Dense(512, activation='relu'),\n",
    "      tf.keras.layers.Dense(26, activation='softmax')\n",
    "  ])\n",
    "\n",
    "\n",
    "  model.compile(optimizer = RMSprop(learning_rate=1e-3),\n",
    "                loss = 'categorical_crossentropy',\n",
    "                metrics=['accuracy'])\n",
    "\n",
    "  return model"
   ]
  },
  {
   "cell_type": "code",
   "execution_count": 15,
   "id": "125be6c8",
   "metadata": {
    "colab": {
     "base_uri": "https://localhost:8080/"
    },
    "id": "125be6c8",
    "lines_to_next_cell": 2,
    "outputId": "5843b3b7-a4a2-432b-fcd8-1feb820f6892",
    "tags": []
   },
   "outputs": [
    {
     "name": "stdout",
     "output_type": "stream",
     "text": [
      "WARNING:tensorflow:From D:\\JetBrains\\PyCharm Community Edition 2022.1\\Enviroments\\MachineLearning\\lib\\site-packages\\keras\\src\\backend.py:873: The name tf.get_default_graph is deprecated. Please use tf.compat.v1.get_default_graph instead.\n",
      "\n",
      "WARNING:tensorflow:From D:\\JetBrains\\PyCharm Community Edition 2022.1\\Enviroments\\MachineLearning\\lib\\site-packages\\keras\\src\\layers\\pooling\\max_pooling2d.py:161: The name tf.nn.max_pool is deprecated. Please use tf.nn.max_pool2d instead.\n",
      "\n",
      "Epoch 1/15\n",
      "WARNING:tensorflow:From D:\\JetBrains\\PyCharm Community Edition 2022.1\\Enviroments\\MachineLearning\\lib\\site-packages\\keras\\src\\utils\\tf_utils.py:492: The name tf.ragged.RaggedTensorValue is deprecated. Please use tf.compat.v1.ragged.RaggedTensorValue instead.\n",
      "\n",
      "WARNING:tensorflow:From D:\\JetBrains\\PyCharm Community Edition 2022.1\\Enviroments\\MachineLearning\\lib\\site-packages\\keras\\src\\engine\\base_layer_utils.py:384: The name tf.executing_eagerly_outside_functions is deprecated. Please use tf.compat.v1.executing_eagerly_outside_functions instead.\n",
      "\n",
      "858/858 [==============================] - 22s 21ms/step - loss: 2.7409 - accuracy: 0.1710 - val_loss: 1.7407 - val_accuracy: 0.4346\n",
      "Epoch 2/15\n",
      "858/858 [==============================] - 18s 21ms/step - loss: 1.9102 - accuracy: 0.3920 - val_loss: 1.1201 - val_accuracy: 0.6007\n",
      "Epoch 3/15\n",
      "858/858 [==============================] - 19s 22ms/step - loss: 1.3983 - accuracy: 0.5485 - val_loss: 0.7895 - val_accuracy: 0.7468\n",
      "Epoch 4/15\n",
      "858/858 [==============================] - 18s 21ms/step - loss: 1.0811 - accuracy: 0.6434 - val_loss: 0.5592 - val_accuracy: 0.8094\n",
      "Epoch 5/15\n",
      "858/858 [==============================] - 18s 21ms/step - loss: 0.8906 - accuracy: 0.7041 - val_loss: 0.5299 - val_accuracy: 0.8236\n",
      "Epoch 6/15\n",
      "858/858 [==============================] - 18s 21ms/step - loss: 0.7356 - accuracy: 0.7536 - val_loss: 0.4104 - val_accuracy: 0.8617\n",
      "Epoch 7/15\n",
      "858/858 [==============================] - 18s 21ms/step - loss: 0.6384 - accuracy: 0.7865 - val_loss: 0.2197 - val_accuracy: 0.9356\n",
      "Epoch 8/15\n",
      "858/858 [==============================] - 18s 21ms/step - loss: 0.5558 - accuracy: 0.8131 - val_loss: 0.3436 - val_accuracy: 0.8790\n",
      "Epoch 9/15\n",
      "858/858 [==============================] - 18s 21ms/step - loss: 0.5116 - accuracy: 0.8304 - val_loss: 0.1795 - val_accuracy: 0.9373\n",
      "Epoch 10/15\n",
      "858/858 [==============================] - 19s 22ms/step - loss: 0.4504 - accuracy: 0.8514 - val_loss: 0.2586 - val_accuracy: 0.9175\n",
      "Epoch 11/15\n",
      "858/858 [==============================] - 18s 21ms/step - loss: 0.4218 - accuracy: 0.8614 - val_loss: 0.1881 - val_accuracy: 0.9357\n",
      "Epoch 12/15\n",
      "858/858 [==============================] - 18s 21ms/step - loss: 0.3800 - accuracy: 0.8734 - val_loss: 0.1732 - val_accuracy: 0.9373\n",
      "Epoch 13/15\n",
      "858/858 [==============================] - 18s 21ms/step - loss: 0.3641 - accuracy: 0.8786 - val_loss: 0.2003 - val_accuracy: 0.9243\n",
      "Epoch 14/15\n",
      "858/858 [==============================] - 18s 21ms/step - loss: 0.3421 - accuracy: 0.8863 - val_loss: 0.1298 - val_accuracy: 0.9565\n",
      "Epoch 15/15\n",
      "858/858 [==============================] - 18s 21ms/step - loss: 0.3232 - accuracy: 0.8919 - val_loss: 0.1664 - val_accuracy: 0.9465\n"
     ]
    }
   ],
   "source": [
    "# Save your model\n",
    "model = create_model()\n",
    "\n",
    "# Train your model\n",
    "history = model.fit(train_generator,\n",
    "                    epochs=15,\n",
    "                    validation_data=validation_generator)"
   ]
  },
  {
   "cell_type": "code",
   "execution_count": 16,
   "id": "f1567eef",
   "metadata": {
    "colab": {
     "base_uri": "https://localhost:8080/",
     "height": 887
    },
    "id": "f1567eef",
    "outputId": "adda92ac-86e6-4947-a0a4-73cbf4649f0c",
    "tags": []
   },
   "outputs": [
    {
     "data": {
      "image/png": "[encoded data removed]",
      "text/plain": [
       "<Figure size 640x480 with 1 Axes>"
      ]
     },
     "metadata": {},
     "output_type": "display_data"
    },
    {
     "data": {
      "image/png": "[encoded data removed]",
      "text/plain": [
       "<Figure size 640x480 with 1 Axes>"
      ]
     },
     "metadata": {},
     "output_type": "display_data"
    }
   ],
   "source": [
    "# Plot the chart for accuracy and loss on both training and validation\n",
    "acc = history.history['accuracy']\n",
    "val_acc = history.history['val_accuracy']\n",
    "loss = history.history['loss']\n",
    "val_loss = history.history['val_loss']\n",
    "\n",
    "epochs = range(len(acc))\n",
    "\n",
    "plt.plot(epochs, acc, 'r', label='Training accuracy')\n",
    "plt.plot(epochs, val_acc, 'b', label='Validation accuracy')\n",
    "plt.title('Training and validation accuracy')\n",
    "plt.legend()\n",
    "plt.figure()\n",
    "\n",
    "plt.plot(epochs, loss, 'r', label='Training Loss')\n",
    "plt.plot(epochs, val_loss, 'b', label='Validation Loss')\n",
    "plt.title('Training and validation loss')\n",
    "plt.legend()\n",
    "\n",
    "plt.show()"
   ]
  },
  {
   "cell_type": "code",
   "execution_count": 39,
   "id": "4658a1d8-b8fc-4f89-9e36-5368705ed035",
   "metadata": {},
   "outputs": [
    {
     "name": "stdout",
     "output_type": "stream",
     "text": [
      "1/1 [==============================] - 0s 28ms/step\n",
      "Filename:  a.png  classified as  a\n",
      "1/1 [==============================] - 0s 13ms/step\n",
      "Filename:  b.png  classified as  b\n",
      "1/1 [==============================] - 0s 20ms/step\n",
      "Filename:  c.png  classified as  c\n",
      "1/1 [==============================] - 0s 30ms/step\n",
      "Filename:  d.png  classified as  t\n",
      "1/1 [==============================] - 0s 35ms/step\n",
      "Filename:  g.png  classified as  g\n",
      "1/1 [==============================] - 0s 25ms/step\n",
      "Filename:  h.png  classified as  h\n",
      "1/1 [==============================] - 0s 33ms/step\n",
      "Filename:  l.png  classified as  l\n",
      "1/1 [==============================] - 0s 28ms/step\n",
      "Filename:  m.png  classified as  m\n",
      "1/1 [==============================] - 0s 31ms/step\n",
      "Filename:  n.png  classified as  n\n",
      "1/1 [==============================] - 0s 20ms/step\n",
      "Filename:  o.png  classified as  o\n",
      "1/1 [==============================] - 0s 26ms/step\n",
      "Filename:  q.png  classified as  q\n",
      "1/1 [==============================] - 0s 29ms/step\n",
      "Filename:  s.png  classified as  s\n"
     ]
    }
   ],
   "source": [
    "import numpy as np\n",
    "import os\n",
    "from tensorflow.keras.utils import load_img, img_to_array\n",
    "\n",
    "for fn in os.listdir(\"Sample\"):\n",
    " \n",
    "    # predicting images\n",
    "    path='Sample/' + fn\n",
    "    img=load_img(path, target_size=(28, 28, 1), color_mode='grayscale')\n",
    "    \n",
    "    x=img_to_array(img)\n",
    "    x /= 255\n",
    "    x=np.expand_dims(x, axis=0)\n",
    "    images = np.vstack([x])\n",
    "    \n",
    "    classes = model.predict(images, batch_size=10)\n",
    "    \n",
    "    # print(classes[0]) # weights of all the classes\n",
    "    \n",
    "    labels = dict((i, chr(i)) for i in range(97, 97+26))\n",
    "    print(\"Filename: \", fn, \" classified as \", labels[np.argmax(classes[0]) + 97])\n",
    "    \n",
    "    "
   ]
  },
  {
   "cell_type": "code",
   "execution_count": null,
   "id": "a8576735-b4a3-4e2b-8828-4b12ff40f22e",
   "metadata": {},
   "outputs": [],
   "source": []
  },
  {
   "cell_type": "code",
   "execution_count": null,
   "id": "3c580877-c960-4ab1-998e-781ec03b880b",
   "metadata": {},
   "outputs": [],
   "source": []
  },
  {
   "cell_type": "code",
   "execution_count": null,
   "id": "cf4415a7-4186-4b9f-ae28-bed327097f3b",
   "metadata": {},
   "outputs": [],
   "source": []
  }
 ],
 "metadata": {
  "accelerator": "GPU",
  "colab": {
   "provenance": []
  },
  "kernelspec": {
   "display_name": "Python 3 (ipykernel)",
   "language": "python",
   "name": "python3"
  },
  "language_info": {
   "codemirror_mode": {
    "name": "ipython",
    "version": 3
   },
   "file_extension": ".py",
   "mimetype": "text/x-python",
   "name": "python",
   "nbconvert_exporter": "python",
   "pygments_lexer": "ipython3",
   "version": "3.9.13"
  }
 },
 "nbformat": 4,
 "nbformat_minor": 5
}
